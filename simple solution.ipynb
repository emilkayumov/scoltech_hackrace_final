{
 "cells": [
  {
   "cell_type": "markdown",
   "metadata": {},
   "source": [
    "## Skoltech HackRace Hackaton Final Round (First place solution)\n",
    "#### Emil Kayumov (MSU), Alexander Nenashev (MIPT)\n"
   ]
  },
  {
   "cell_type": "markdown",
   "metadata": {},
   "source": [
    "Reading data."
   ]
  },
  {
   "cell_type": "code",
   "execution_count": 1,
   "metadata": {
    "collapsed": true
   },
   "outputs": [],
   "source": [
    "import numpy as np\n",
    "import pandas as pd\n",
    "import math"
   ]
  },
  {
   "cell_type": "code",
   "execution_count": 2,
   "metadata": {
    "collapsed": true
   },
   "outputs": [],
   "source": [
    "orders = pd.read_csv(\"order.csv\", header=None)\n",
    "times = np.load('times.npy')"
   ]
  },
  {
   "cell_type": "code",
   "execution_count": 3,
   "metadata": {
    "collapsed": false
   },
   "outputs": [],
   "source": [
    "orders = np.array(orders)"
   ]
  },
  {
   "cell_type": "code",
   "execution_count": 4,
   "metadata": {
    "collapsed": false
   },
   "outputs": [
    {
     "data": {
      "text/plain": [
       "array([[    0,  2643,  2642,     0],\n",
       "       [    1,  2643,     2,     5],\n",
       "       [    2,   535,  1126,    10],\n",
       "       ..., \n",
       "       [ 2997,   561,  2021, 14985],\n",
       "       [ 2998,  2544,  1784, 14990],\n",
       "       [ 2999,  1217,   149, 14995]])"
      ]
     },
     "execution_count": 4,
     "metadata": {},
     "output_type": "execute_result"
    }
   ],
   "source": [
    "orders"
   ]
  },
  {
   "cell_type": "code",
   "execution_count": 5,
   "metadata": {
    "collapsed": false
   },
   "outputs": [
    {
     "data": {
      "text/plain": [
       "array([[    0.  ,   369.75,   472.9 , ...,  2600.08,  2523.55,  1737.76],\n",
       "       [  320.62,     0.  ,   103.15, ...,  2436.68,  2420.03,  1634.25],\n",
       "       [  385.66,    83.15,     0.  , ...,  2500.64,  2483.99,  1698.2 ],\n",
       "       ..., \n",
       "       [ 2584.5 ,  2567.89,  2611.85, ...,     0.  ,  4673.33,  3887.54],\n",
       "       [ 2443.68,  2503.85,  2547.81, ...,  4530.99,     0.  ,  3427.75],\n",
       "       [ 1602.93,  1633.27,  1737.44, ...,  3721.96,  3324.91,     0.  ]])"
      ]
     },
     "execution_count": 5,
     "metadata": {},
     "output_type": "execute_result"
    }
   ],
   "source": [
    "times"
   ]
  },
  {
   "cell_type": "markdown",
   "metadata": {},
   "source": [
    "For example lets combine order 0 and order 1."
   ]
  },
  {
   "cell_type": "code",
   "execution_count": 6,
   "metadata": {
    "collapsed": false
   },
   "outputs": [
    {
     "data": {
      "text/plain": [
       "5062.3500000000004"
      ]
     },
     "execution_count": 6,
     "metadata": {},
     "output_type": "execute_result"
    }
   ],
   "source": [
    "times[2643, 2642] + times[2643, 2] # separately"
   ]
  },
  {
   "cell_type": "code",
   "execution_count": 7,
   "metadata": {
    "collapsed": false
   },
   "outputs": [
    {
     "data": {
      "text/plain": [
       "4221.4300000000003"
      ]
     },
     "execution_count": 7,
     "metadata": {},
     "output_type": "execute_result"
    }
   ],
   "source": [
    "times[2643, 2] + times[2, 2642] # 0-1-1-0"
   ]
  },
  {
   "cell_type": "markdown",
   "metadata": {},
   "source": [
    "Simple solution."
   ]
  },
  {
   "cell_type": "code",
   "execution_count": 8,
   "metadata": {
    "collapsed": true
   },
   "outputs": [],
   "source": [
    "# check if can cobmine order i and order j\n",
    "\n",
    "def find_route(i, j):\n",
    "    \n",
    "    start_i = orders[i, 1]\n",
    "    end_i = orders[i, 2]\n",
    "    \n",
    "    start_j = orders[j, 1]\n",
    "    end_j = orders[j, 2]\n",
    "    \n",
    "    start_i_start_j = times[start_i, start_j]\n",
    "    start_i_end_j = times[start_i, end_j]\n",
    "    \n",
    "    start_j_start_i = times[start_j, start_i]\n",
    "    start_j_end_i = times[start_j, end_i]\n",
    "    \n",
    "    start_i_end_i = times[start_i, end_i]\n",
    "    start_j_end_j = times[start_j, end_j]\n",
    "    \n",
    "    end_i_end_j = times[end_i, end_j]\n",
    "    end_j_end_i = times[end_j, end_i]\n",
    "    \n",
    "    \n",
    "    min_time = times[orders[i, 1], orders[i, 2]] + times[orders[j, 1], orders[j, 2]]\n",
    "    acts = (i, i, j, j)\n",
    "    start_time = orders[i, 3]\n",
    "    \n",
    "    # i -> j\n",
    "    diff = start_i_start_j - (orders[j, 3] - orders[i, 3])\n",
    "    if diff < 900 and diff > -900:\n",
    "        # can take i -> j\n",
    "        \n",
    "        # ... -> i -> j\n",
    "        tmp_time = start_i_start_j + start_j_end_i + end_i_end_j\n",
    "        if tmp_time < min_time:\n",
    "            min_time = tmp_time\n",
    "            acts = (i, j, i, j)\n",
    "            if diff < 0:\n",
    "                start_time = orders[i, 3] + np.abs(diff)\n",
    "    \n",
    "        # ... -> j -> i\n",
    "        tmp_time = start_i_start_j + start_j_end_j + end_j_end_i\n",
    "        if tmp_time < min_time:\n",
    "            min_time = tmp_time\n",
    "            acts = (i, j, j, i)\n",
    "            if diff < 0:\n",
    "                start_time = orders[i, 3] + np.abs(diff)\n",
    "                \n",
    "    # j -> i\n",
    "    diff = start_i_start_j + (orders[j, 3] - orders[i, 3]) \n",
    "    if diff < 900 and diff > -900:\n",
    "        # can take j -> i\n",
    "        \n",
    "        # ... -> j -> i\n",
    "        tmp_time = start_i_start_j + start_i_end_j + end_j_end_i\n",
    "        if tmp_time < min_time:\n",
    "            min_time = tmp_time\n",
    "            acts = (j, i, j, i)\n",
    "            start_time = orders[j, 3] \n",
    "            \n",
    "        # ... -> i -> j\n",
    "        tmp_time = start_i_start_j + start_i_end_i + end_i_end_j\n",
    "        if tmp_time < min_time:\n",
    "            min_time = tmp_time\n",
    "            acts = (j, i, i, j)\n",
    "            start_time = orders[j, 3] \n",
    "            \n",
    "    return min_time, acts, start_time"
   ]
  },
  {
   "cell_type": "code",
   "execution_count": 9,
   "metadata": {
    "collapsed": false,
    "scrolled": true
   },
   "outputs": [
    {
     "name": "stdout",
     "output_type": "stream",
     "text": [
      "(4221.4300000000003, (0, 1, 1, 0), 5.0)\n"
     ]
    }
   ],
   "source": [
    "print(find_route(0, 1))"
   ]
  },
  {
   "cell_type": "code",
   "execution_count": 10,
   "metadata": {
    "collapsed": false
   },
   "outputs": [],
   "source": [
    "output = open('answer.txt', 'w')\n",
    "orders_done = np.zeros(orders.shape[0], dtype=bool)\n",
    "\n",
    "for i in range(3000):\n",
    "    \n",
    "    if orders_done[i]:\n",
    "        continue\n",
    "    \n",
    "    min_time = 1e100\n",
    "    best_pair = (i, i)\n",
    "    best_acts = (i, i, 0, 0)\n",
    "    start_time = -1\n",
    "    \n",
    "    for j in range(i + 1, orders.shape[0]):\n",
    "        if orders_done[j]:\n",
    "            continue\n",
    "        cur_time, cur_acts, cur_start = find_route(i, j)\n",
    "        if cur_time < min_time and cur_acts[0] != cur_acts[1]:\n",
    "            min_time = cur_time\n",
    "            best_pair = (i, j)\n",
    "            best_acts = cur_acts\n",
    "            start_time = cur_start\n",
    "    \n",
    "    # write only combined orders\n",
    "    if best_acts[0] != best_acts[1]:\n",
    "        \n",
    "        line = str(math.ceil(start_time)) + ' ' \n",
    "\n",
    "        if orders[best_acts[0], 1] == orders[best_acts[1], 1]:\n",
    "            # equal start point\n",
    "            line += str(orders[best_acts[0], 1]) + ' ' + str(best_acts[0]) + ' ' + str(best_acts[1]) + ','\n",
    "        else:\n",
    "            line += str(orders[best_acts[0], 1]) + ' ' + str(best_acts[0]) + ',' + str(orders[best_acts[1], 1]) + ' ' + str(best_acts[1]) + ','\n",
    "\n",
    "        if orders[best_acts[0], 2] == orders[best_acts[1], 2]:\n",
    "            # equal finish point\n",
    "            line += str(orders[best_acts[2], 2]) + ' ' + str(best_acts[2]) + ' ' + str(best_acts[3]) + '\\n'\n",
    "        else:\n",
    "            line += str(orders[best_acts[2], 2]) + ' ' + str(best_acts[2]) + ',' + str(orders[best_acts[3], 2]) + ' ' + str(best_acts[3]) + '\\n'\n",
    "\n",
    "        output.writelines(line)\n",
    "\n",
    "        orders_done[i] = True\n",
    "        orders_done[j] = True\n",
    "        \n",
    "    else:\n",
    "        orders_done[i] = True\n",
    "        \n",
    "output.close()"
   ]
  },
  {
   "cell_type": "markdown",
   "metadata": {},
   "source": [
    "Result:"
   ]
  },
  {
   "cell_type": "code",
   "execution_count": 12,
   "metadata": {
    "collapsed": false
   },
   "outputs": [
    {
     "name": "stdout",
     "output_type": "stream",
     "text": [
      "576476.8\r\n"
     ]
    }
   ],
   "source": [
    "!python check.py"
   ]
  }
 ],
 "metadata": {
  "kernelspec": {
   "display_name": "Python 3",
   "language": "python",
   "name": "python3"
  },
  "language_info": {
   "codemirror_mode": {
    "name": "ipython",
    "version": 3
   },
   "file_extension": ".py",
   "mimetype": "text/x-python",
   "name": "python",
   "nbconvert_exporter": "python",
   "pygments_lexer": "ipython3",
   "version": "3.5.1"
  }
 },
 "nbformat": 4,
 "nbformat_minor": 0
}
